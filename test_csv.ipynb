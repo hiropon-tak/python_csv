{
 "cells": [
  {
   "cell_type": "code",
   "execution_count": 1,
   "id": "stretch-sleeping",
   "metadata": {},
   "outputs": [],
   "source": [
    "import pandas as pd\n",
    "import unicodedata"
   ]
  },
  {
   "cell_type": "code",
   "execution_count": 2,
   "id": "latin-earth",
   "metadata": {},
   "outputs": [],
   "source": [
    "def add_space_if_fw(text):\n",
    "    if unicodedata.east_asian_width(text) in 'FWA':\n",
    "        return text + ' '\n",
    "    else:\n",
    "        return text"
   ]
  },
  {
   "cell_type": "code",
   "execution_count": 3,
   "id": "quality-rehabilitation",
   "metadata": {},
   "outputs": [],
   "source": [
    "file_name = 'test.csv'"
   ]
  },
  {
   "cell_type": "code",
   "execution_count": 8,
   "id": "understood-professional",
   "metadata": {},
   "outputs": [],
   "source": [
    "with open(file_name, 'r', encoding='UTF-8') as f:\n",
    "    content = f.read()"
   ]
  },
  {
   "cell_type": "code",
   "execution_count": 9,
   "id": "forty-booking",
   "metadata": {},
   "outputs": [],
   "source": [
    "result = ''\n",
    "for ch in content:\n",
    "    result += add_space_if_fw(ch)"
   ]
  },
  {
   "cell_type": "code",
   "execution_count": 10,
   "id": "explicit-corps",
   "metadata": {},
   "outputs": [],
   "source": [
    "file_name_changed = 'changed_test.csv'\n",
    "with open(file_name_changed, mode='w', encoding='UTF-8') as f:\n",
    "    f.write(result)"
   ]
  },
  {
   "cell_type": "code",
   "execution_count": 11,
   "id": "photographic-input",
   "metadata": {},
   "outputs": [
    {
     "data": {
      "text/html": [
       "<div>\n",
       "<style scoped>\n",
       "    .dataframe tbody tr th:only-of-type {\n",
       "        vertical-align: middle;\n",
       "    }\n",
       "\n",
       "    .dataframe tbody tr th {\n",
       "        vertical-align: top;\n",
       "    }\n",
       "\n",
       "    .dataframe thead th {\n",
       "        text-align: right;\n",
       "    }\n",
       "</style>\n",
       "<table border=\"1\" class=\"dataframe\">\n",
       "  <thead>\n",
       "    <tr style=\"text-align: right;\">\n",
       "      <th></th>\n",
       "      <th>id1</th>\n",
       "      <th>id2</th>\n",
       "      <th>id3</th>\n",
       "    </tr>\n",
       "  </thead>\n",
       "  <tbody>\n",
       "    <tr>\n",
       "      <th>0</th>\n",
       "      <td>12</td>\n",
       "      <td>34</td>\n",
       "      <td>56</td>\n",
       "    </tr>\n",
       "    <tr>\n",
       "      <th>1</th>\n",
       "      <td></td>\n",
       "      <td>あ</td>\n",
       "      <td>い</td>\n",
       "    </tr>\n",
       "  </tbody>\n",
       "</table>\n",
       "</div>"
      ],
      "text/plain": [
       "  id1 id2 id3\n",
       "0  12  34  56\n",
       "1   　   あ   い"
      ]
     },
     "execution_count": 11,
     "metadata": {},
     "output_type": "execute_result"
    }
   ],
   "source": [
    "colspecs = [(0, 2), (2, 4), (4, 6)]\n",
    "names = ['id1', 'id2', 'id3']\n",
    "df = pd.read_fwf(file_name_changed, colspecs=colspecs, names=names, encoding='UTF-8')\n",
    "df"
   ]
  }
 ],
 "metadata": {
  "kernelspec": {
   "display_name": "Python 3",
   "language": "python",
   "name": "python3"
  },
  "language_info": {
   "codemirror_mode": {
    "name": "ipython",
    "version": 3
   },
   "file_extension": ".py",
   "mimetype": "text/x-python",
   "name": "python",
   "nbconvert_exporter": "python",
   "pygments_lexer": "ipython3",
   "version": "3.9.1"
  }
 },
 "nbformat": 4,
 "nbformat_minor": 5
}
