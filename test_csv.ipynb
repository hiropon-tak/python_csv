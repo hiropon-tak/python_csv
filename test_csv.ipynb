{
 "cells": [
  {
   "cell_type": "code",
   "execution_count": 48,
   "id": "stretch-sleeping",
   "metadata": {},
   "outputs": [],
   "source": [
    "import pandas as pd\n",
    "import unicodedata"
   ]
  },
  {
   "cell_type": "code",
   "execution_count": 49,
   "id": "latin-earth",
   "metadata": {},
   "outputs": [],
   "source": [
    "def add_space_if_fw(text):\n",
    "    if unicodedata.east_asian_width(text) in 'FWA':\n",
    "        return text + ' '\n",
    "    else:\n",
    "        return text"
   ]
  },
  {
   "cell_type": "code",
   "execution_count": 50,
   "id": "quality-rehabilitation",
   "metadata": {},
   "outputs": [],
   "source": [
    "file_name = 'test.csv'"
   ]
  },
  {
   "cell_type": "code",
   "execution_count": 51,
   "id": "understood-professional",
   "metadata": {},
   "outputs": [],
   "source": [
    "with open(file_name, 'r', encoding='UTF-8') as f:\n",
    "    content = f.read()"
   ]
  },
  {
   "cell_type": "code",
   "execution_count": 52,
   "id": "forty-booking",
   "metadata": {},
   "outputs": [],
   "source": [
    "result = ''\n",
    "for ch in content:\n",
    "    result += add_space_if_fw(ch)"
   ]
  },
  {
   "cell_type": "code",
   "execution_count": 53,
   "id": "explicit-corps",
   "metadata": {},
   "outputs": [],
   "source": [
    "file_name_changed = 'changed_test.csv'\n",
    "with open(file_name_changed, mode='w', encoding='UTF-8') as f:\n",
    "    f.write(result)"
   ]
  },
  {
   "cell_type": "code",
   "execution_count": 54,
   "id": "photographic-input",
   "metadata": {},
   "outputs": [
    {
     "data": {
      "text/html": [
       "<div>\n",
       "<style scoped>\n",
       "    .dataframe tbody tr th:only-of-type {\n",
       "        vertical-align: middle;\n",
       "    }\n",
       "\n",
       "    .dataframe tbody tr th {\n",
       "        vertical-align: top;\n",
       "    }\n",
       "\n",
       "    .dataframe thead th {\n",
       "        text-align: right;\n",
       "    }\n",
       "</style>\n",
       "<table border=\"1\" class=\"dataframe\">\n",
       "  <thead>\n",
       "    <tr style=\"text-align: right;\">\n",
       "      <th></th>\n",
       "      <th>name</th>\n",
       "      <th>code</th>\n",
       "    </tr>\n",
       "  </thead>\n",
       "  <tbody>\n",
       "    <tr>\n",
       "      <th>0</th>\n",
       "      <td>abc</td>\n",
       "      <td>123</td>\n",
       "    </tr>\n",
       "    <tr>\n",
       "      <th>1</th>\n",
       "      <td>efg</td>\n",
       "      <td>456</td>\n",
       "    </tr>\n",
       "  </tbody>\n",
       "</table>\n",
       "</div>"
      ],
      "text/plain": [
       "  name  code\n",
       "0  abc   123\n",
       "1  efg   456"
      ]
     },
     "execution_count": 54,
     "metadata": {},
     "output_type": "execute_result"
    }
   ],
   "source": [
    "widths = [3, 3]\n",
    "names = ['name', 'code']\n",
    "df = pd.read_fwf(file_name_changed, widths=widths, names=names, encoding='UTF-8')\n",
    "df"
   ]
  },
  {
   "cell_type": "code",
   "execution_count": 55,
   "id": "secondary-scroll",
   "metadata": {},
   "outputs": [],
   "source": [
    "import sqlite3"
   ]
  },
  {
   "cell_type": "code",
   "execution_count": 56,
   "id": "opening-reflection",
   "metadata": {},
   "outputs": [],
   "source": [
    "con = sqlite3.connect('test.db')\n",
    "cur = con.cursor()"
   ]
  },
  {
   "cell_type": "code",
   "execution_count": 59,
   "id": "raising-norwegian",
   "metadata": {},
   "outputs": [
    {
     "data": {
      "text/plain": [
       "<sqlite3.Cursor at 0x17a47a92420>"
      ]
     },
     "execution_count": 59,
     "metadata": {},
     "output_type": "execute_result"
    }
   ],
   "source": [
    "# 空のテーブル作成\n",
    "cur.execute(\n",
    "    'CREATE TABLE items (id INTEGER PRIMARY KEY, name TEXT, code INTEGER)'\n",
    ")"
   ]
  },
  {
   "cell_type": "code",
   "execution_count": 19,
   "id": "greek-active",
   "metadata": {},
   "outputs": [
    {
     "data": {
      "text/plain": [
       "[(0, 'abc', 123), (1, 'efg', 456), (None, 'xyz', 1)]"
      ]
     },
     "execution_count": 19,
     "metadata": {},
     "output_type": "execute_result"
    }
   ],
   "source": [
    "# itemテーブルから取得\n",
    "cur.execute(\n",
    "    'SELECT * FROM items'\n",
    ")\n",
    "cur.fetchall()"
   ]
  },
  {
   "cell_type": "code",
   "execution_count": 60,
   "id": "apart-intelligence",
   "metadata": {},
   "outputs": [
    {
     "data": {
      "text/plain": [
       "[(1, 'abc', 123), (2, 'efg', 456)]"
      ]
     },
     "execution_count": 60,
     "metadata": {},
     "output_type": "execute_result"
    }
   ],
   "source": [
    "# データフレームからテーブル作成\n",
    "df.to_sql('items', con, if_exists='append', index = False)\n",
    "\n",
    "cur.execute(\n",
    "    'SELECT * FROM items'\n",
    ")\n",
    "cur.fetchall()"
   ]
  },
  {
   "cell_type": "code",
   "execution_count": 58,
   "id": "fallen-insurance",
   "metadata": {},
   "outputs": [
    {
     "data": {
      "text/plain": [
       "<sqlite3.Cursor at 0x17a47a92420>"
      ]
     },
     "execution_count": 58,
     "metadata": {},
     "output_type": "execute_result"
    }
   ],
   "source": [
    "# テーブル削除\n",
    "cur.execute(\n",
    "    'DROP TABLE items'\n",
    ")"
   ]
  },
  {
   "cell_type": "code",
   "execution_count": 41,
   "id": "polish-wrestling",
   "metadata": {},
   "outputs": [
    {
     "data": {
      "text/plain": [
       "[('sqlite_sequence',)]"
      ]
     },
     "execution_count": 41,
     "metadata": {},
     "output_type": "execute_result"
    }
   ],
   "source": [
    "# 全テーブル検索\n",
    "cur.execute(\n",
    "    \"SELECT NAME FROM sqlite_master WHERE type='table'\"\n",
    ")\n",
    "cur.fetchall()"
   ]
  },
  {
   "cell_type": "code",
   "execution_count": 61,
   "id": "trained-mason",
   "metadata": {},
   "outputs": [],
   "source": [
    "con.close()"
   ]
  },
  {
   "cell_type": "code",
   "execution_count": null,
   "id": "narrative-southeast",
   "metadata": {},
   "outputs": [],
   "source": []
  }
 ],
 "metadata": {
  "kernelspec": {
   "display_name": "Python 3",
   "language": "python",
   "name": "python3"
  },
  "language_info": {
   "codemirror_mode": {
    "name": "ipython",
    "version": 3
   },
   "file_extension": ".py",
   "mimetype": "text/x-python",
   "name": "python",
   "nbconvert_exporter": "python",
   "pygments_lexer": "ipython3",
   "version": "3.9.1"
  }
 },
 "nbformat": 4,
 "nbformat_minor": 5
}
