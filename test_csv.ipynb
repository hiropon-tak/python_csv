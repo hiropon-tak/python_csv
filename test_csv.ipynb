{
 "cells": [
  {
   "cell_type": "code",
   "execution_count": 56,
   "id": "stretch-sleeping",
   "metadata": {},
   "outputs": [],
   "source": [
    "import pandas as pd\n",
    "import unicodedata"
   ]
  },
  {
   "cell_type": "code",
   "execution_count": 63,
   "id": "latin-earth",
   "metadata": {},
   "outputs": [],
   "source": [
    "def add_space_if_fw(text):\n",
    "    if unicodedata.east_asian_width(text) in 'FWA':\n",
    "        return text + ' '\n",
    "    else:\n",
    "        return text"
   ]
  },
  {
   "cell_type": "code",
   "execution_count": 65,
   "id": "quality-rehabilitation",
   "metadata": {},
   "outputs": [
    {
     "name": "stdout",
     "output_type": "stream",
     "text": [
      "  name  code\n",
      "0  abc   123\n",
      "1  efg   456\n",
      "2  hij   789\n",
      "   code text\n",
      "0   123  xxx\n",
      "1   123  yyy\n",
      "2   456  zzz\n"
     ]
    }
   ],
   "source": [
    "df = {}\n",
    "for i in range(1,3):\n",
    "    file_name = f'test{i}.csv'\n",
    "    with open(file_name, 'r', encoding='UTF-8') as f:\n",
    "        content = f.read()\n",
    "    result = ''\n",
    "    for ch in content:\n",
    "        result += add_space_if_fw(ch)\n",
    "    file_name_changed = f'changed_test{i}.csv'\n",
    "    with open(file_name_changed, mode='w', encoding='UTF-8') as f:\n",
    "        f.write(result)\n",
    "    widths = [7, 6]\n",
    "    if i == 1:\n",
    "        names = ['name', 'code']\n",
    "    else:\n",
    "        names = ['code', 'text']\n",
    "    df[i] = pd.read_fwf(file_name_changed, widths=widths, names=names, encoding='UTF-8')\n",
    "for i in df:\n",
    "    print(df[i])"
   ]
  },
  {
   "cell_type": "code",
   "execution_count": 69,
   "id": "secondary-scroll",
   "metadata": {},
   "outputs": [],
   "source": [
    "import sqlite3"
   ]
  },
  {
   "cell_type": "code",
   "execution_count": 84,
   "id": "opening-reflection",
   "metadata": {},
   "outputs": [],
   "source": [
    "con = sqlite3.connect('test.db')\n",
    "cur = con.cursor()"
   ]
  },
  {
   "cell_type": "code",
   "execution_count": 87,
   "id": "fallen-insurance",
   "metadata": {},
   "outputs": [
    {
     "data": {
      "text/plain": [
       "<sqlite3.Cursor at 0x180ded9a8f0>"
      ]
     },
     "execution_count": 87,
     "metadata": {},
     "output_type": "execute_result"
    }
   ],
   "source": [
    "# テーブル削除\n",
    "cur.execute(\n",
    "    'DROP TABLE IF EXISTS items'\n",
    ")"
   ]
  },
  {
   "cell_type": "code",
   "execution_count": 89,
   "id": "raising-norwegian",
   "metadata": {},
   "outputs": [
    {
     "data": {
      "text/plain": [
       "<sqlite3.Cursor at 0x180ded9a8f0>"
      ]
     },
     "execution_count": 89,
     "metadata": {},
     "output_type": "execute_result"
    }
   ],
   "source": [
    "# 空のテーブル作成\n",
    "cur.execute(\n",
    "    'CREATE TABLE items1 (id INTEGER PRIMARY KEY, name TEXT, code INTEGER)'\n",
    ")\n",
    "cur.execute(\n",
    "    'CREATE TABLE items2 (id INTEGER PRIMARY KEY, code INTEGER, text TEXT)'\n",
    ")"
   ]
  },
  {
   "cell_type": "code",
   "execution_count": 90,
   "id": "apart-intelligence",
   "metadata": {},
   "outputs": [
    {
     "name": "stdout",
     "output_type": "stream",
     "text": [
      "[(1, 'abc', 123), (2, 'efg', 456), (3, 'hij', 789)]\n",
      "[(1, 123, 'xxx'), (2, 123, 'yyy'), (3, 456, 'zzz')]\n"
     ]
    }
   ],
   "source": [
    "# データフレームからテーブル作成\n",
    "for i in df:\n",
    "    df[i].to_sql(f'items{i}', con, if_exists='append', index = False)\n",
    "\n",
    "    cur.execute(\n",
    "        f'SELECT * FROM items{i}'\n",
    "    )\n",
    "    print(cur.fetchall())"
   ]
  },
  {
   "cell_type": "code",
   "execution_count": 91,
   "id": "polish-wrestling",
   "metadata": {},
   "outputs": [
    {
     "data": {
      "text/plain": [
       "[('sqlite_sequence',), ('items1',), ('items2',)]"
      ]
     },
     "execution_count": 91,
     "metadata": {},
     "output_type": "execute_result"
    }
   ],
   "source": [
    "# 全テーブル検索\n",
    "cur.execute(\n",
    "    \"SELECT NAME FROM sqlite_master WHERE type='table'\"\n",
    ")\n",
    "tables = cur.fetchall()\n",
    "tables"
   ]
  },
  {
   "cell_type": "code",
   "execution_count": 92,
   "id": "trained-mason",
   "metadata": {},
   "outputs": [],
   "source": [
    "con.close()"
   ]
  },
  {
   "cell_type": "code",
   "execution_count": 151,
   "id": "c7802990",
   "metadata": {},
   "outputs": [],
   "source": [
    "# データベース操作\n",
    "from sqlalchemy import create_engine\n",
    "from sqlalchemy.ext.declarative import declarative_base\n",
    "from sqlalchemy.orm import sessionmaker\n",
    "\n",
    "SQLALCHEMY_DATABASE_URL = 'sqlite:///test.db'\n",
    "\n",
    "\n",
    "engine = create_engine(\n",
    "  SQLALCHEMY_DATABASE_URL,\n",
    "  connect_args={'check_same_thread': False}\n",
    ")\n",
    "\n",
    "SessionLocal = sessionmaker(autocommit=False, autoflush=False, bind=engine)\n",
    "Base = declarative_base()\n",
    "\n"
   ]
  },
  {
   "cell_type": "code",
   "execution_count": 152,
   "id": "484b6c21",
   "metadata": {},
   "outputs": [],
   "source": [
    "# モデル設定\n",
    "from sqlalchemy import Column, ForeignKey, Integer, String, ForeignKey\n",
    "from sqlalchemy.orm import relationship\n",
    "\n",
    "class Item(Base):\n",
    "  __tablename__ = 'items1'\n",
    "  id = Column(Integer, primary_key=True, autoincrement=True, index=True)\n",
    "  name = Column(String, unique=True, index=True)\n",
    "  code = Column(Integer, index=True)\n",
    "  item2 = relationship('Item2')\n",
    "\n",
    "class Item2(Base):\n",
    "  __tablename__ = 'items2'\n",
    "  id = Column(Integer, primary_key=True, autoincrement=True, index=True)\n",
    "  code = Column(Integer, ForeignKey('items1.code'), index=True)\n",
    "  text = Column(String, unique=True, index=True)"
   ]
  },
  {
   "cell_type": "code",
   "execution_count": 158,
   "id": "5dbb51f1",
   "metadata": {},
   "outputs": [
    {
     "name": "stdout",
     "output_type": "stream",
     "text": [
      "xxx\n",
      "yyy\n"
     ]
    }
   ],
   "source": [
    "session = SessionLocal()\n",
    "item = session.query(Item).first()\n",
    "for i in item.item2:\n",
    "  print(i.text)"
   ]
  }
 ],
 "metadata": {
  "kernelspec": {
   "display_name": "Python 3",
   "language": "python",
   "name": "python3"
  },
  "language_info": {
   "codemirror_mode": {
    "name": "ipython",
    "version": 3
   },
   "file_extension": ".py",
   "mimetype": "text/x-python",
   "name": "python",
   "nbconvert_exporter": "python",
   "pygments_lexer": "ipython3",
   "version": "3.9.1"
  }
 },
 "nbformat": 4,
 "nbformat_minor": 5
}
