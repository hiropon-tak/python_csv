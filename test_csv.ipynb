{
 "cells": [
  {
   "cell_type": "code",
   "execution_count": 1,
   "id": "stretch-sleeping",
   "metadata": {},
   "outputs": [],
   "source": [
    "import pandas as pd\n",
    "import unicodedata"
   ]
  },
  {
   "cell_type": "code",
   "execution_count": null,
   "id": "b8d82a2a",
   "metadata": {},
   "outputs": [],
   "source": [
    "# かんばんマスター\n",
    "df = pd.read_csv('master.csv',\n",
    "                 usecols=[1, 4, 6, 7, 8, 9, 26, 27, 29],\n",
    "                 dtype = str).fillna(0).astype({'収容数': int, '回転枚数': int, '読取枚数': int, '発注枚数': int})\n",
    "df.rename(columns={'かんＳＥＬＦ': 'ad',\n",
    "                    '仕入先': 'sup_code',\n",
    "                    '背番号': 'seban',\n",
    "                    '品番': 'hinban',\n",
    "                    '収容数': 'num',\n",
    "                    'ストアアドレス': 'store',\n",
    "                    '回転枚数': 'k_num',\n",
    "                    '読取枚数': 'y_num',\n",
    "                    '発注枚数': 'h_num'}, inplace=True)\n",
    "\n",
    "df['seban'] = df['seban'].str.strip()\n",
    "df['hinban'] = df['hinban'].str.strip()\n",
    "df['store'] = df['store'].str.strip()\n",
    "df.head()"
   ]
  },
  {
   "cell_type": "code",
   "execution_count": null,
   "id": "68026888",
   "metadata": {},
   "outputs": [],
   "source": [
    "# 仕入先マスター\n",
    "df_s = pd.read_csv('sup.csv',\n",
    "                 usecols=[0, 1],\n",
    "                 dtype = str).fillna(0)\n",
    "df_s.rename(columns={'仕入先': 'sup_code','仕入先名': 'sup_name'}, inplace=True)\n",
    "\n",
    "df_s['sup_name'] = df_s['sup_name'].str.strip()\n",
    "\n",
    "df_s.head()"
   ]
  },
  {
   "cell_type": "code",
   "execution_count": 2,
   "id": "latin-earth",
   "metadata": {},
   "outputs": [],
   "source": [
    "# def add_space_if_fw(text):\n",
    "#     if unicodedata.east_asian_width(text) in 'FWA':\n",
    "#         return text + ' '\n",
    "#     else:\n",
    "#         return text"
   ]
  },
  {
   "cell_type": "code",
   "execution_count": null,
   "id": "quality-rehabilitation",
   "metadata": {},
   "outputs": [],
   "source": [
    "# df = {}\n",
    "# for i in range(1,3):\n",
    "#     file_name = f'test{i}.csv'\n",
    "#     with open(file_name, 'r', encoding='UTF-8') as f:\n",
    "#         content = f.read()\n",
    "#     result = ''\n",
    "#     for ch in content:\n",
    "#         result += add_space_if_fw(ch)\n",
    "#     file_name_changed = f'changed_test{i}.csv'\n",
    "#     with open(file_name_changed, mode='w', encoding='UTF-8') as f:\n",
    "#         f.write(result)\n",
    "#     widths = [7, 6]\n",
    "#     if i == 1:\n",
    "#         names = ['name', 'code']\n",
    "#     else:\n",
    "#         names = ['code', 'text']\n",
    "#     df[i] = pd.read_fwf(file_name_changed, widths=widths, names=names, encoding='UTF-8')\n",
    "# for i in df:\n",
    "#     print(df[i])"
   ]
  },
  {
   "cell_type": "code",
   "execution_count": 2,
   "id": "secondary-scroll",
   "metadata": {},
   "outputs": [],
   "source": [
    "import sqlite3"
   ]
  },
  {
   "cell_type": "code",
   "execution_count": 4,
   "id": "opening-reflection",
   "metadata": {},
   "outputs": [],
   "source": [
    "con = sqlite3.connect('test.db')\n",
    "cur = con.cursor()"
   ]
  },
  {
   "cell_type": "code",
   "execution_count": 53,
   "id": "fallen-insurance",
   "metadata": {},
   "outputs": [
    {
     "data": {
      "text/plain": [
       "<sqlite3.Cursor at 0x209767315e0>"
      ]
     },
     "execution_count": 53,
     "metadata": {},
     "output_type": "execute_result"
    }
   ],
   "source": [
    "# テーブル削除\n",
    "cur.execute(\n",
    "    'DROP TABLE IF EXISTS master'\n",
    ")"
   ]
  },
  {
   "cell_type": "code",
   "execution_count": 55,
   "id": "f1838bf9",
   "metadata": {},
   "outputs": [
    {
     "data": {
      "text/plain": [
       "<sqlite3.Cursor at 0x209767315e0>"
      ]
     },
     "execution_count": 55,
     "metadata": {},
     "output_type": "execute_result"
    }
   ],
   "source": [
    "# かんばんマスター作成\n",
    "cur.execute(\n",
    "    '''\n",
    "    CREATE TABLE master (\n",
    "        id INTEGER PRIMARY KEY, \n",
    "        ad TEXT, \n",
    "        sup_code TEXT, \n",
    "        seban TEXT, \n",
    "        hinban TEXT, \n",
    "        num INTEGER, \n",
    "        store TEXT, \n",
    "        k_num INTEGER, \n",
    "        y_num INTEGER, \n",
    "        h_num INTEGER)\n",
    "    '''\n",
    ")\t\t\t\t\t\t"
   ]
  },
  {
   "cell_type": "code",
   "execution_count": 56,
   "id": "07e54b3c",
   "metadata": {},
   "outputs": [
    {
     "data": {
      "text/plain": [
       "<sqlite3.Cursor at 0x209767315e0>"
      ]
     },
     "execution_count": 56,
     "metadata": {},
     "output_type": "execute_result"
    }
   ],
   "source": [
    "# 集欠マスター作成\n",
    "cur.execute(\n",
    "    '''\n",
    "    CREATE TABLE shuketu (\n",
    "        id INTEGER PRIMARY KEY, \n",
    "        ad TEXT, \n",
    "        num INTEGER,\n",
    "        num_all INTEGER, \n",
    "        cust_name TEXT, \n",
    "        due_date TEXT, \n",
    "        tonyu INTEGER,\n",
    "        inventory INTEGER, \n",
    "        afure INTEGER, \n",
    "        shuketubi TEXT, \n",
    "        bin INTEGER,\n",
    "        comment TEXT)\n",
    "    '''\n",
    ")\t\t"
   ]
  },
  {
   "cell_type": "code",
   "execution_count": 6,
   "id": "2b6fbe26",
   "metadata": {},
   "outputs": [
    {
     "data": {
      "text/plain": [
       "<sqlite3.Cursor at 0x2c2d169adc0>"
      ]
     },
     "execution_count": 6,
     "metadata": {},
     "output_type": "execute_result"
    }
   ],
   "source": [
    "# 仕入先マスター作成\n",
    "cur.execute(\n",
    "    '''\n",
    "    CREATE TABLE sup (\n",
    "        id INTEGER PRIMARY KEY, \n",
    "        sup_code TEXT,\n",
    "        sup_name TEXT)\n",
    "    '''\n",
    ")\t\t"
   ]
  },
  {
   "cell_type": "code",
   "execution_count": 58,
   "id": "d9699fbe",
   "metadata": {},
   "outputs": [
    {
     "data": {
      "text/plain": [
       "39859"
      ]
     },
     "execution_count": 58,
     "metadata": {},
     "output_type": "execute_result"
    }
   ],
   "source": [
    "# かんばんマスター→DB\n",
    "df.to_sql('master', con, if_exists='append', index=False)"
   ]
  },
  {
   "cell_type": "code",
   "execution_count": 9,
   "id": "fa1ded75",
   "metadata": {},
   "outputs": [
    {
     "data": {
      "text/plain": [
       "596"
      ]
     },
     "execution_count": 9,
     "metadata": {},
     "output_type": "execute_result"
    }
   ],
   "source": [
    "# 仕入先マスター→DB\n",
    "df_s.to_sql('sup', con, if_exists='append', index=False)"
   ]
  },
  {
   "cell_type": "code",
   "execution_count": null,
   "id": "de0dc836",
   "metadata": {},
   "outputs": [],
   "source": [
    "cur.execute(\n",
    "    \"select * from sqlite_master where type='table' and name='shuketu'\"\n",
    ")\n",
    "tables = cur.fetchall()\n",
    "tables"
   ]
  },
  {
   "cell_type": "code",
   "execution_count": null,
   "id": "apart-intelligence",
   "metadata": {},
   "outputs": [],
   "source": [
    "# データフレームからテーブル作成\n",
    "# for i in df:\n",
    "#     df[i].to_sql(f'items{i}', con, if_exists='append', index = False)\n",
    "\n",
    "#     cur.execute(\n",
    "#         f'SELECT * FROM items{i}'\n",
    "#     )\n",
    "#     print(cur.fetchall())"
   ]
  },
  {
   "cell_type": "code",
   "execution_count": 5,
   "id": "polish-wrestling",
   "metadata": {},
   "outputs": [
    {
     "data": {
      "text/plain": [
       "[('sqlite_sequence',), ('master',), ('shuketu',), ('sup',)]"
      ]
     },
     "execution_count": 5,
     "metadata": {},
     "output_type": "execute_result"
    }
   ],
   "source": [
    "# 全テーブル検索\n",
    "cur.execute(\n",
    "    \"SELECT NAME FROM sqlite_master WHERE type='table'\"\n",
    ")\n",
    "tables = cur.fetchall()\n",
    "tables"
   ]
  },
  {
   "cell_type": "code",
   "execution_count": 6,
   "id": "93f143c8",
   "metadata": {},
   "outputs": [
    {
     "data": {
      "text/plain": [
       "[(4, '00102', '02010', 'U068', '94223-80600-00', 4000, '03475', 4, 0, 2)]"
      ]
     },
     "execution_count": 6,
     "metadata": {},
     "output_type": "execute_result"
    }
   ],
   "source": [
    "cur.execute(\n",
    "    \"SELECT * FROM master WHERE id=4\"\n",
    ")\n",
    "tables = cur.fetchall()\n",
    "tables"
   ]
  },
  {
   "cell_type": "code",
   "execution_count": null,
   "id": "490f7414",
   "metadata": {},
   "outputs": [],
   "source": [
    "cur.execute(\n",
    "    '''\n",
    "    INSERT INTO\n",
    "\t    shuketu\n",
    "    VALUES\n",
    "        (1,\n",
    "        '00011',\n",
    "        1,\n",
    "        10,\n",
    "        'とよた',\n",
    "        '',\n",
    "        2,\n",
    "        1,\n",
    "        1,\n",
    "        date('now', 'localtime'),\n",
    "        1,\n",
    "        '')\n",
    "    '''\n",
    ")"
   ]
  },
  {
   "cell_type": "code",
   "execution_count": 60,
   "id": "trained-mason",
   "metadata": {},
   "outputs": [],
   "source": [
    "con.close()"
   ]
  },
  {
   "cell_type": "code",
   "execution_count": 25,
   "id": "484b6c21",
   "metadata": {},
   "outputs": [],
   "source": [
    "# モデル設定\n",
    "from sqlalchemy import create_engine\n",
    "from sqlalchemy.ext.declarative import declarative_base\n",
    "from sqlalchemy.orm import sessionmaker\n",
    "from sqlalchemy.orm import Session\n",
    "import datetime\n",
    "from sqlalchemy import Column, ForeignKey, Integer, String, ForeignKey\n",
    "from sqlalchemy.orm import relationship\n",
    "\n",
    "SQLALCHEMY_DATABASE_URL = 'sqlite:///test.db'\n",
    "\n",
    "\n",
    "engine = create_engine(\n",
    "  SQLALCHEMY_DATABASE_URL,\n",
    "  connect_args={'check_same_thread': False}\n",
    ")\n",
    "\n",
    "SessionLocal = sessionmaker(autocommit=False, autoflush=False, bind=engine)\n",
    "Base = declarative_base()\n",
    "\n",
    "class Master(Base):\n",
    "  __tablename__ = 'master'\n",
    "  id = Column(Integer, primary_key=True, autoincrement=True, index=True)\n",
    "  ad = Column(String, unique=True, index=True)\n",
    "  sup_code = Column(String, index=True)\n",
    "  seban = Column(String, index=True)\n",
    "  hinban = Column(String, index=True)\n",
    "  num = Column(Integer, index=True)\n",
    "  store = Column(String, index=True)\n",
    "  k_num = Column(Integer, index=True)\n",
    "  y_num = Column(Integer, index=True)\n",
    "  h_num = Column(Integer, index=True)\n",
    "  shuketu = relationship('Shuketu', backref=\"master\")\n",
    "\n",
    "class Shuketu(Base):\n",
    "  __tablename__ = 'shuketu'\n",
    "  id = Column(Integer, primary_key=True, autoincrement=True, index=True)\n",
    "  ad = Column(String, ForeignKey('master.ad'), index=True)\n",
    "  num = Column(Integer, index=True)\n",
    "  num_all = Column(Integer, index=True)\n",
    "  cust_name = Column(String, index=True)\n",
    "  due_date = Column(String, index=True)\n",
    "  tonyu = Column(Integer, index=True)\n",
    "  inventory = Column(Integer, index=True)\n",
    "  afure = Column(Integer, index=True)\n",
    "  shuketubi = Column(String, index=True)\n",
    "  bin = Column(Integer, index=True)\n",
    "  comment = Column(String, index=True)\n",
    "  "
   ]
  },
  {
   "cell_type": "code",
   "execution_count": 8,
   "id": "1db8ed6b",
   "metadata": {},
   "outputs": [],
   "source": [
    "# create\n",
    "# def create_item(db, args):\n",
    "#     item = Master(\n",
    "#         ad=args['ad'], \n",
    "#         sup_code=args['sup_code'], \n",
    "#         seban=args['seban'], \n",
    "#         hinban=args['hinban'], \n",
    "#         num=args['num'], \n",
    "#         store=args['store'], \n",
    "#         k_num=args['k_num'], \n",
    "#         y_num=args['y_num'], \n",
    "#         h_num=args['h_num'])\n",
    "#     db.add(item)\n",
    "#     db.commit()\n",
    "#     db.refresh(item)\n",
    "#     return item\n",
    "\n",
    "def create_item(db, args):\n",
    "\n",
    "    item = Shuketu(\n",
    "        ad=args['ad'],\n",
    "        num=args['num'],\n",
    "        num_all=args['num_all'],\n",
    "        cust_name=args['cust_name'],\n",
    "        due_date=args['due_date'],\n",
    "        tonyu=args['tonyu'],\n",
    "        inventory=args['inventory'],\n",
    "        afure=args['afure'],\n",
    "        shuketubi=args['shuketubi'],\n",
    "        bin=args['bin'],\n",
    "        comment=args['comment'],\n",
    "    )\n",
    "    db.add(item)\n",
    "    db.commit()\n",
    "    db.refresh(item)\n",
    "    return item\n",
    "\n",
    "\n",
    "# args = {}\n",
    "# args['ad'] = '00001'\n",
    "# args['sup_code'] = '00100'\n",
    "# args['seban'] = '010'\n",
    "# args['hinban'] = '12345-67890-00'\n",
    "# args['num'] = 100\n",
    "# args['store'] = 'A01-01-1'\n",
    "# args['k_num'] = 1\n",
    "# args['y_num'] = 1 \n",
    "# args['h_num'] = 1\n",
    "\n",
    "args = {}\n",
    "args['ad']= '00010'\n",
    "args['num']= 1\n",
    "args['num_all']= 10\n",
    "args['cust_name']= 'とよた'\n",
    "args['due_date']= ''\n",
    "args['tonyu']= 2\n",
    "args['inventory']= 1\n",
    "args['afure']= 1\n",
    "args['shuketubi']= datetime.date.today().isoformat()\n",
    "args['bin']= 1\n",
    "args['comment']= ''\n",
    "\n",
    "\n",
    "db = SessionLocal()\n",
    "item = create_item(db, args)    \n",
    "# print(item.id, item.ad, item.sup_code, item.seban, item.hinban, item.num, item.store, item.k_num, item.y_num, item.h_num)\n",
    "db.close()"
   ]
  },
  {
   "cell_type": "code",
   "execution_count": 16,
   "id": "5dbb51f1",
   "metadata": {},
   "outputs": [
    {
     "name": "stdout",
     "output_type": "stream",
     "text": [
      "1 00010 500 10 とよた  2 1 1 2022-05-18 1 \n",
      "PSBBL-20000-00\n",
      "2 00010 1 10 とよた  2 1 1 2022-05-18 1 \n",
      "PSBBL-20000-00\n",
      "4 00010 1 10 とよた  2 1 1 2022-05-18 1 \n",
      "PSBBL-20000-00\n"
     ]
    }
   ],
   "source": [
    "# read\n",
    "# def read_item(db, ad):\n",
    "#   items = db.query(Master).filter(Master.ad == ad).all()\n",
    "#   return items\n",
    "\n",
    "def read_item(db, ad):\n",
    "  items = db.query(Shuketu).filter(Shuketu.ad == ad).all()\n",
    "  return items\n",
    "\n",
    "\n",
    "ad = '00010'\n",
    "db = SessionLocal()\n",
    "items = read_item(db, ad)\n",
    "for item in items:\n",
    "    # print(item.id, item.ad, item.sup_code, item.seban, item.hinban, item.num, item.store, item.k_num, item.y_num, item.h_num)\n",
    "    print(item.id, item.ad, item.num, item.num_all, item.cust_name, item.due_date, item.tonyu, item.inventory, item.afure, item.shuketubi, item.bin, item.comment)\n",
    "    print(item.master.hinban)\n",
    "db.close()"
   ]
  },
  {
   "cell_type": "code",
   "execution_count": 13,
   "id": "c1e779b8",
   "metadata": {},
   "outputs": [
    {
     "name": "stdout",
     "output_type": "stream",
     "text": [
      "50000\n"
     ]
    }
   ],
   "source": [
    "# update\n",
    "# def update_item(db, args):\n",
    "#     item = db.query(Master).filter(Master.ad == args['ad']).first()\n",
    "#     item.num = args['num']\n",
    "#     db.commit()\n",
    "#     db.refresh(item)\n",
    "#     return item\n",
    "\n",
    "def update_item(db, args):\n",
    "    item = db.query(Shuketu).filter(Shuketu.id == args['id']).first()\n",
    "    item.num = args['num']\n",
    "    db.commit()\n",
    "    db.refresh(item)\n",
    "    return item\n",
    "\n",
    "args = {}\n",
    "args['id'] = 3\n",
    "args['ad'] = '00001'\n",
    "args['sup_code'] = '00100'\n",
    "args['seban'] = '010'\n",
    "args['hinban'] = '12345-67890-00'\n",
    "args['num'] = 50000\n",
    "args['store'] = 'A01-01-1'\n",
    "args['k_num'] = 1\n",
    "args['y_num'] = 1 \n",
    "args['h_num'] = 1\n",
    "\n",
    "db = SessionLocal()\n",
    "item = update_item(db, args)\n",
    "# print(item.id, item.ad, item.sup_code, item.seban, item.hinban, item.num, item.store, item.k_num, item.y_num, item.h_num)\n",
    "print(item.num)\n",
    "db.close()"
   ]
  },
  {
   "cell_type": "code",
   "execution_count": 15,
   "id": "ebf4bcaf",
   "metadata": {},
   "outputs": [],
   "source": [
    "# delete\n",
    "# def delete_item(db, id):\n",
    "#     item = db.query(Master).filter(Master.id == id).first()\n",
    "#     db.delete(item)\n",
    "#     db.commit()\n",
    "\n",
    "def delete_item(db, id):\n",
    "    item = db.query(Shuketu).filter(Shuketu.id == id).first()\n",
    "    db.delete(item)\n",
    "    db.commit()\n",
    "\n",
    "id = 3\n",
    "\n",
    "db = SessionLocal()\n",
    "delete_item(db, id)\n",
    "db.close()"
   ]
  }
 ],
 "metadata": {
  "interpreter": {
   "hash": "a13827de09b59a2233772823bf8a5405d3740b37835f33378bbd58dbc5a83b36"
  },
  "kernelspec": {
   "display_name": "Python 3.9.6 64-bit",
   "language": "python",
   "name": "python3"
  },
  "language_info": {
   "codemirror_mode": {
    "name": "ipython",
    "version": 3
   },
   "file_extension": ".py",
   "mimetype": "text/x-python",
   "name": "python",
   "nbconvert_exporter": "python",
   "pygments_lexer": "ipython3",
   "version": "3.9.6"
  }
 },
 "nbformat": 4,
 "nbformat_minor": 5
}
